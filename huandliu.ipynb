{
 "cells": [
  {
   "cell_type": "code",
   "execution_count": 61,
   "metadata": {},
   "outputs": [],
   "source": [
    "import itertools\n",
    "import os\n",
    "import pandas as pd\n",
    "import nltk\n",
    "from nltk.stem import PorterStemmer\n",
    "from nltk.probability import FreqDist\n",
    "\n",
    "# change directory if necessary\n",
    "os.chdir(r\"/Users/hokongzheng/Downloads/FIT3162---Zhiwei-and-Friends/\") "
   ]
  },
  {
   "cell_type": "code",
   "execution_count": 62,
   "metadata": {},
   "outputs": [
    {
     "name": "stdout",
     "output_type": "stream",
     "text": [
      "Number of Reviews: 3044\n",
      "Explicit Aspects: service, food, anecdotes/miscellaneous, ambience, price\n"
     ]
    }
   ],
   "source": [
    "# For SemEval datasets\n",
    "def readfile(filename):\n",
    "    data = pd.read_excel(filename)\n",
    "    data = data.dropna(subset=[\"text\"])\n",
    "    return data\n",
    "\n",
    "filename = \"Restaurants_Train.xlsx\"\n",
    "data = readfile(filename)\n",
    "review_list = data[\"text\"]\n",
    "explicit_aspect = pd.unique(data[\"category\"])\n",
    "print(\"Number of Reviews:\", len(review_list))\n",
    "print(\"Explicit Aspects:\", \", \".join(explicit_aspect))"
   ]
  },
  {
   "cell_type": "code",
   "execution_count": 107,
   "metadata": {},
   "outputs": [],
   "source": [
    "stemmer = PorterStemmer() # used for stemming\n",
    "\n",
    "def stem_n_lowercase(word_list):\n",
    "    return list(map(lambda word:stemmer.stem(word).lower(), word_list))\n",
    "    \n",
    "def get_nouns(sentence_list):\n",
    "    \n",
    "    # longer term: complete\n",
    "    \n",
    "    new_sentence_list = []\n",
    "    i = 0\n",
    "    while i < len(sentence_list):\n",
    "        word_tuple = sentence_list[i]\n",
    "        LONGER_TERM = False\n",
    "        if word_tuple[1] in [\"NN\", \"NNS\", \"NNP\", \"NNPS\"]:\n",
    "            if i != len(sentence_list)-1:\n",
    "                nxt_tuple = sentence_list[i+1]\n",
    "                if nxt_tuple[1] in [\"NN\", \"NNS\", \"NNP\", \"NNPS\"]:\n",
    "                    new_sentence_list.append(word_tuple[0] + ' ' + nxt_tuple[0])\n",
    "                    LONGER_TERM = True\n",
    "                    i += 1\n",
    "            if not LONGER_TERM:\n",
    "                new_sentence_list.append(word_tuple[0])\n",
    "        i += 1\n",
    "    return new_sentence_list"
   ]
  },
  {
   "cell_type": "code",
   "execution_count": 108,
   "metadata": {},
   "outputs": [],
   "source": [
    "tokenized_reviews = data[\"text\"].apply(nltk.word_tokenize)\n",
    "tagged_reviews = tokenized_reviews.apply(nltk.pos_tag)\n",
    "raw_nouns = tagged_reviews.apply(get_nouns)\n",
    "stemmed_n_lowercase_nouns = raw_nouns.apply(stem_n_lowercase)\n",
    "all_nouns = list(itertools.chain(*stemmed_n_lowercase_nouns))"
   ]
  },
  {
   "cell_type": "code",
   "execution_count": 109,
   "metadata": {},
   "outputs": [
    {
     "data": {
      "text/plain": [
       "0                                                 [staff]\n",
       "1       [redeeming factor, food, averag, defici, teodora]\n",
       "3                              [food, kitchen, eat, menu]\n",
       "6                                       [gabriela, greet]\n",
       "7                                                      []\n",
       "8                                           [food, 'perk]\n",
       "10                                                     []\n",
       "12      [favorit, sausag, chicken, waiter, kind, dish,...\n",
       "16                                  [bagel, tast, textur]\n",
       "17                                                 [food]\n",
       "18      [i, megadeth, mr. scruff, st. germain, song, s...\n",
       "19      [mayonnais, toast, ingredi, chees, omelet, tem...\n",
       "26                             [hour, check, drink, talk]\n",
       "28                                    [design, atmospher]\n",
       "30                                     [thailand, cuisin]\n",
       "31                             [mari, neighborhood haunt]\n",
       "32                                         [pizza, pizza]\n",
       "34                       [girlfriend, place, night, time]\n",
       "35                                                     []\n",
       "36                              [night, place, side ladi]\n",
       "37                 [i, hand, time, reason, sheer conveni]\n",
       "38                                            [folk, pie]\n",
       "39                                                     []\n",
       "40                   [it i, definitely speci, and afford]\n",
       "42                                                [place]\n",
       "43                                                     []\n",
       "44                             [money, decor, none, chef]\n",
       "46                                    [seat, wall, bench]\n",
       "47                                   [seltzer, lime, ice]\n",
       "48                                                     []\n",
       "                              ...                        \n",
       "4869                                 [i, idea, place, ue]\n",
       "4870       [right, hostess, busboy, rapido, rapido, tabl]\n",
       "4873                             [china, phrase, restaur]\n",
       "4874             [pizza, kensington neighborhood, tonino]\n",
       "4875                                              [place]\n",
       "4876                         [dinosaur rol, tuna sashimi]\n",
       "4878                                          [manhattan]\n",
       "4879                                           [rate hom]\n",
       "4880                                  [afternoon, friend]\n",
       "4881                                        [greet, call]\n",
       "4882                                           [interior]\n",
       "4883                                            [gnocchi]\n",
       "4884                                [way, friend, coloni]\n",
       "4885         [i, night, anniversari, night reserv, occas]\n",
       "4886                                                [boy]\n",
       "4887                               [new green, bo, money]\n",
       "4888                                         [note, beer]\n",
       "4889                [haru, sake bar, haru, restaur, door]\n",
       "4890                                               [year]\n",
       "4891                                               [ahhh]\n",
       "4892                   [bagel shop, corner, way, opinion]\n",
       "4893                                              [order]\n",
       "4894                      [servic, short-ord, dinner typ]\n",
       "4895         [bottl, sake, order, edamam, plate, sashimi]\n",
       "4899                                [peopl, cheese stick]\n",
       "4900                                                   []\n",
       "4901                [appet, dim sum, varieti, food, food]\n",
       "4905                                        [pm, restaur]\n",
       "4906    [tabl, pot, water, surfac, platter, meat, vege...\n",
       "4912                                           [town loc]\n",
       "Name: text, Length: 3044, dtype: object"
      ]
     },
     "execution_count": 109,
     "metadata": {},
     "output_type": "execute_result"
    }
   ],
   "source": [
    "stemmed_n_lowercase_nouns"
   ]
  },
  {
   "cell_type": "code",
   "execution_count": 110,
   "metadata": {},
   "outputs": [],
   "source": [
    "frequency_table = FreqDist(all_nouns)"
   ]
  },
  {
   "cell_type": "code",
   "execution_count": 111,
   "metadata": {},
   "outputs": [
    {
     "data": {
      "text/plain": [
       "8662"
      ]
     },
     "execution_count": 111,
     "metadata": {},
     "output_type": "execute_result"
    }
   ],
   "source": [
    "frequency_table.N()"
   ]
  },
  {
   "cell_type": "code",
   "execution_count": 112,
   "metadata": {},
   "outputs": [
    {
     "data": {
      "text/plain": [
       "[('food', 394),\n",
       " ('place', 309),\n",
       " ('servic', 216),\n",
       " ('restaur', 192),\n",
       " ('time', 135),\n",
       " ('price', 102),\n",
       " ('tabl', 73),\n",
       " ('friend', 71),\n",
       " ('staff', 65),\n",
       " ('dish', 65)]"
      ]
     },
     "execution_count": 112,
     "metadata": {},
     "output_type": "execute_result"
    }
   ],
   "source": [
    "frequency_table.most_common(10)"
   ]
  },
  {
   "cell_type": "code",
   "execution_count": null,
   "metadata": {},
   "outputs": [],
   "source": []
  }
 ],
 "metadata": {
  "kernelspec": {
   "display_name": "Python 3",
   "language": "python",
   "name": "python3"
  },
  "language_info": {
   "codemirror_mode": {
    "name": "ipython",
    "version": 3
   },
   "file_extension": ".py",
   "mimetype": "text/x-python",
   "name": "python",
   "nbconvert_exporter": "python",
   "pygments_lexer": "ipython3",
   "version": "3.7.1"
  }
 },
 "nbformat": 4,
 "nbformat_minor": 2
}
