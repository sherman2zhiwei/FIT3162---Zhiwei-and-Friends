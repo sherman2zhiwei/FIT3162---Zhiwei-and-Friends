{
 "cells": [
  {
   "cell_type": "markdown",
   "metadata": {},
   "source": [
    "# Aspect Category Detection - Basic Classifiers"
   ]
  },
  {
   "cell_type": "markdown",
   "metadata": {},
   "source": [
    "## Load necessary libraries"
   ]
  },
  {
   "cell_type": "code",
   "execution_count": 19,
   "metadata": {},
   "outputs": [],
   "source": [
    "import re\n",
    "import numpy as np\n",
    "import pandas as pd\n",
    "from asp_agg_utils import _readXML, _clean_text\n",
    "from sklearn.preprocessing import MultiLabelBinarizer\n",
    "from sklearn.feature_extraction.text import TfidfVectorizer, TfidfTransformer, CountVectorizer\n",
    "from sklearn.multiclass import OneVsRestClassifier\n",
    "from sklearn.pipeline import Pipeline\n",
    "from sklearn.metrics import accuracy_score\n",
    "from sklearn.metrics import precision_recall_fscore_support\n",
    "\n",
    "# List of classifiers\n",
    "from sklearn.svm import LinearSVC\n",
    "from sklearn.linear_model import LogisticRegression\n",
    "from sklearn.naive_bayes import MultinomialNB\n",
    "from sklearn.tree import DecisionTreeClassifier"
   ]
  },
  {
   "cell_type": "markdown",
   "metadata": {},
   "source": [
    "## Load datasets"
   ]
  },
  {
   "cell_type": "code",
   "execution_count": 2,
   "metadata": {},
   "outputs": [],
   "source": [
    "data_parent_dir = \"../Datasets/\"\n",
    "filenames = [\"Restaurants_Train.xml\", \"restaurants-trial.xml\", \"Restaurants_Test_Data_phaseB.xml\"]\n",
    "datasets = list(map(lambda filename: _readXML(data_parent_dir + filename), filenames))\n",
    "train, val, test = datasets"
   ]
  },
  {
   "cell_type": "markdown",
   "metadata": {},
   "source": [
    "## Preprocessing"
   ]
  },
  {
   "cell_type": "markdown",
   "metadata": {},
   "source": [
    "1. Clean text\n",
    " - expand contraction of words\n",
    " - remove punctuations\n",
    " - convert multiple consecutive whitespaces into one\n",
    " - remove the starting and ending spaces"
   ]
  },
  {
   "cell_type": "code",
   "execution_count": 3,
   "metadata": {},
   "outputs": [
    {
     "name": "stdout",
     "output_type": "stream",
     "text": [
      "Original sentence:\n",
      "Our agreed favorite is the orrechiete with sausage and chicken (usually the waiters are kind enough to split the dish in half so you get to sample both meats).\n",
      "Preprocessed:\n",
      "agreed favorite orrechiete sausage chicken ( usually waiters kind enough split dish half get sample meats ) .\n"
     ]
    }
   ],
   "source": [
    "x_train, x_val, x_test = map(lambda dataset: dataset.review.apply(_clean_text), datasets)\n",
    "print(\"Original sentence:\\n\" + train[\"review\"][7])\n",
    "print(\"Preprocessed:\\n\" + x_train[7])"
   ]
  },
  {
   "cell_type": "markdown",
   "metadata": {},
   "source": [
    "2. Separate labels into different columns which consist of only binary values (0 and 1)"
   ]
  },
  {
   "cell_type": "code",
   "execution_count": 4,
   "metadata": {},
   "outputs": [],
   "source": [
    "def _to_categorical_columns(df):\n",
    "    mlb = MultiLabelBinarizer()\n",
    "    return pd.DataFrame(mlb.fit_transform(df.values), columns=mlb.classes_, index=df.index)"
   ]
  },
  {
   "cell_type": "code",
   "execution_count": 5,
   "metadata": {},
   "outputs": [
    {
     "name": "stdout",
     "output_type": "stream",
     "text": [
      "0                          [service]\n",
      "1    [food, anecdotes/miscellaneous]\n",
      "2                             [food]\n",
      "3                          [service]\n",
      "4          [anecdotes/miscellaneous]\n",
      "Name: aspect, dtype: object\n"
     ]
    },
    {
     "data": {
      "text/html": [
       "<div>\n",
       "<style scoped>\n",
       "    .dataframe tbody tr th:only-of-type {\n",
       "        vertical-align: middle;\n",
       "    }\n",
       "\n",
       "    .dataframe tbody tr th {\n",
       "        vertical-align: top;\n",
       "    }\n",
       "\n",
       "    .dataframe thead th {\n",
       "        text-align: right;\n",
       "    }\n",
       "</style>\n",
       "<table border=\"1\" class=\"dataframe\">\n",
       "  <thead>\n",
       "    <tr style=\"text-align: right;\">\n",
       "      <th></th>\n",
       "      <th>ambience</th>\n",
       "      <th>anecdotes/miscellaneous</th>\n",
       "      <th>food</th>\n",
       "      <th>price</th>\n",
       "      <th>service</th>\n",
       "    </tr>\n",
       "  </thead>\n",
       "  <tbody>\n",
       "    <tr>\n",
       "      <th>0</th>\n",
       "      <td>0</td>\n",
       "      <td>0</td>\n",
       "      <td>0</td>\n",
       "      <td>0</td>\n",
       "      <td>1</td>\n",
       "    </tr>\n",
       "    <tr>\n",
       "      <th>1</th>\n",
       "      <td>0</td>\n",
       "      <td>1</td>\n",
       "      <td>1</td>\n",
       "      <td>0</td>\n",
       "      <td>0</td>\n",
       "    </tr>\n",
       "    <tr>\n",
       "      <th>2</th>\n",
       "      <td>0</td>\n",
       "      <td>0</td>\n",
       "      <td>1</td>\n",
       "      <td>0</td>\n",
       "      <td>0</td>\n",
       "    </tr>\n",
       "    <tr>\n",
       "      <th>3</th>\n",
       "      <td>0</td>\n",
       "      <td>0</td>\n",
       "      <td>0</td>\n",
       "      <td>0</td>\n",
       "      <td>1</td>\n",
       "    </tr>\n",
       "    <tr>\n",
       "      <th>4</th>\n",
       "      <td>0</td>\n",
       "      <td>1</td>\n",
       "      <td>0</td>\n",
       "      <td>0</td>\n",
       "      <td>0</td>\n",
       "    </tr>\n",
       "  </tbody>\n",
       "</table>\n",
       "</div>"
      ],
      "text/plain": [
       "   ambience  anecdotes/miscellaneous  food  price  service\n",
       "0         0                        0     0      0        1\n",
       "1         0                        1     1      0        0\n",
       "2         0                        0     1      0        0\n",
       "3         0                        0     0      0        1\n",
       "4         0                        1     0      0        0"
      ]
     },
     "execution_count": 5,
     "metadata": {},
     "output_type": "execute_result"
    }
   ],
   "source": [
    "y_train, y_val, y_test = map(lambda dataset: _to_categorical_columns(dataset[\"aspect\"]), datasets)\n",
    "print(train[\"aspect\"][:5])\n",
    "y_train.head()"
   ]
  },
  {
   "cell_type": "markdown",
   "metadata": {},
   "source": [
    "## Build classifier\n",
    "A class for classifier "
   ]
  },
  {
   "cell_type": "code",
   "execution_count": 20,
   "metadata": {},
   "outputs": [],
   "source": [
    "class BasicClassifier():\n",
    "    \n",
    "    def __init__(self, clf_type, emb = None):\n",
    "        self.classifier = self._create_classifier(clf_type) \n",
    "        \n",
    "    def _create_classifier(self, clf_type, emb = None):\n",
    "        if clf_type == \"NB\":\n",
    "            clf = OneVsRestClassifier(MultinomialNB(fit_prior = True, class_prior = None))\n",
    "        elif clf_type == \"SVM\":    \n",
    "            clf = OneVsRestClassifier(LinearSVC())\n",
    "        elif clf_type == \"DT\":    \n",
    "            clf = OneVsRestClassifier(DecisionTreeClassifier(random_state=0))\n",
    "        else:\n",
    "            clf = OneVsRestClassifier(LogisticRegression())\n",
    "        return self._classifier_wrapper(clf, emb)\n",
    "    \n",
    "    def _classifier_wrapper(self, clf, emb):\n",
    "        if emb is None:\n",
    "            return Pipeline([\n",
    "                            ('tfidf', TfidfVectorizer()),\n",
    "                            ('clf', clf),\n",
    "                            ])\n",
    "        else:\n",
    "            return Pipeline([ \n",
    "                            ('emb', emb),\n",
    "                            ('clf', clf),\n",
    "                            ])\n",
    "        \n",
    "    def fit(self, data, labels):\n",
    "        self.classifier.fit(data, labels)\n",
    "        \n",
    "    def predict(self, data, labels = None):\n",
    "        preds = self.classifier.predict(data)\n",
    "        if labels is None:\n",
    "            return preds\n",
    "        return accuracy_score(labels, preds), precision_recall_fscore_support(labels, preds)"
   ]
  },
  {
   "cell_type": "markdown",
   "metadata": {},
   "source": [
    "A function to build model and test prediction performance"
   ]
  },
  {
   "cell_type": "code",
   "execution_count": 42,
   "metadata": {},
   "outputs": [],
   "source": [
    "def build_and_run_model(clf_type, x_train, y_train, x_val = None, y_val = None, x_test = None, y_test = None):\n",
    "    clf = BasicClassifier(clf_type)\n",
    "    print('-------- Processing: {}--------'.format(clf_type))\n",
    "    clf.fit(x_train, y_train)\n",
    "    if x_val is not None:\n",
    "        val_acc, val_prf1 = clf.predict(x_val, y_val)\n",
    "        print(\"Val acc: {:.4f}\".format(val_acc))\n",
    "        \n",
    "        val_prf1 = list(val_prf1)\n",
    "        for i in range(len(val_prf1)):\n",
    "            val_prf1[i] = np.average(val_prf1[i])\n",
    "            \n",
    "        print(\"Val precision: {:.4f}\".format(val_prf1[0]))\n",
    "        print(\"Val recall: {:.4f}\".format(val_prf1[1]))\n",
    "        print(\"Val f1: {:.4f}\".format(val_prf1[2]))\n",
    "        print()\n",
    "        \n",
    "    if x_test is not None:\n",
    "        test_acc, test_prf1 = clf.predict(x_test, y_test)\n",
    "        print(\"Test acc: {:.4f}\".format(test_acc))\n",
    "        \n",
    "        test_prf1 = list(test_prf1)\n",
    "        for i in range(len(test_prf1)):\n",
    "            test_prf1[i] = np.average(test_prf1[i])\n",
    "            \n",
    "        print(\"Test precision: {:.4f}\".format(test_prf1[0]))\n",
    "        print(\"Test recall: {:.4f}\".format(test_prf1[1]))\n",
    "        print(\"Test f1: {:.4f}\".format(test_prf1[2]))\n",
    "    return clf"
   ]
  },
  {
   "cell_type": "markdown",
   "metadata": {},
   "source": [
    "Initialize classifier and run it\n",
    "\n",
    "`Naive Bayes (NB)`"
   ]
  },
  {
   "cell_type": "code",
   "execution_count": 43,
   "metadata": {},
   "outputs": [
    {
     "name": "stdout",
     "output_type": "stream",
     "text": [
      "-------- Processing: NB--------\n",
      "Val acc: 0.7700\n",
      "Val precision: 0.9902\n",
      "Val recall: 0.5840\n",
      "Val f1: 0.6726\n",
      "\n",
      "Test acc: 0.4587\n",
      "Test precision: 0.9634\n",
      "Test recall: 0.3255\n",
      "Test f1: 0.4274\n"
     ]
    }
   ],
   "source": [
    "_ = build_and_run_model(\"NB\", x_train, y_train, x_val, y_val, x_test, y_test)"
   ]
  },
  {
   "cell_type": "markdown",
   "metadata": {},
   "source": [
    "`Support Vector Machine (SVM)`"
   ]
  },
  {
   "cell_type": "code",
   "execution_count": 44,
   "metadata": {},
   "outputs": [
    {
     "name": "stdout",
     "output_type": "stream",
     "text": [
      "-------- Processing: SVM--------\n",
      "Val acc: 0.9700\n",
      "Val precision: 0.9907\n",
      "Val recall: 0.9790\n",
      "Val f1: 0.9843\n",
      "\n",
      "Test acc: 0.6837\n",
      "Test precision: 0.9029\n",
      "Test recall: 0.7154\n",
      "Test f1: 0.7958\n"
     ]
    }
   ],
   "source": [
    "_ = build_and_run_model(\"SVM\", x_train, y_train, x_val, y_val, x_test, y_test)"
   ]
  },
  {
   "cell_type": "markdown",
   "metadata": {},
   "source": [
    "`Decision Tree (DT)`"
   ]
  },
  {
   "cell_type": "code",
   "execution_count": 45,
   "metadata": {},
   "outputs": [
    {
     "name": "stdout",
     "output_type": "stream",
     "text": [
      "-------- Processing: DT--------\n",
      "Val acc: 0.9800\n",
      "Val precision: 0.9957\n",
      "Val recall: 0.9785\n",
      "Val f1: 0.9867\n",
      "\n",
      "Test acc: 0.5513\n",
      "Test precision: 0.7535\n",
      "Test recall: 0.7717\n",
      "Test f1: 0.7592\n"
     ]
    }
   ],
   "source": [
    "_ = build_and_run_model(\"DT\", x_train, y_train, x_val, y_val, x_test, y_test)"
   ]
  },
  {
   "cell_type": "markdown",
   "metadata": {},
   "source": [
    "`Logistic Regression`"
   ]
  },
  {
   "cell_type": "code",
   "execution_count": 46,
   "metadata": {},
   "outputs": [
    {
     "name": "stdout",
     "output_type": "stream",
     "text": [
      "-------- Processing: Default--------\n",
      "Val acc: 0.8500\n",
      "Val precision: 0.9856\n",
      "Val recall: 0.7881\n",
      "Val f1: 0.8567\n",
      "\n",
      "Test acc: 0.5487\n",
      "Test precision: 0.9470\n",
      "Test recall: 0.5005\n",
      "Test f1: 0.6214\n"
     ]
    },
    {
     "name": "stderr",
     "output_type": "stream",
     "text": [
      "/Users/hokongzheng/anaconda3/lib/python3.7/site-packages/sklearn/linear_model/logistic.py:433: FutureWarning: Default solver will be changed to 'lbfgs' in 0.22. Specify a solver to silence this warning.\n",
      "  FutureWarning)\n"
     ]
    }
   ],
   "source": [
    "_ = build_and_run_model(\"Default\", x_train, y_train, x_val, y_val, x_test, y_test)"
   ]
  },
  {
   "cell_type": "markdown",
   "metadata": {},
   "source": [
    "## Scrap code which was not used"
   ]
  },
  {
   "cell_type": "raw",
   "metadata": {},
   "source": [
    "# nb = BasicClassifier(\"NB\")\n",
    "# for aspect in y_train:\n",
    "#     print('-------- Processing <{}> --------'.format(aspect))\n",
    "#     nb.fit(x_train, y_train[aspect])\n",
    "#     val_acc = nb.predict(x_val, y_val[aspect])\n",
    "#     test_acc = nb.predict(x_test, y_test[aspect])\n",
    "#     print(\"Val acc: {:.4f}\".format(val_acc))\n",
    "#     print(\"Test acc: {:.4f}\".format(test_acc))"
   ]
  },
  {
   "cell_type": "raw",
   "metadata": {},
   "source": [
    "# svm = BasicClassifier(\"SVM\")\n",
    "# for aspect in y_train:\n",
    "#     print('-------- Processing <{}> --------'.format(aspect))\n",
    "#     svm.fit(x_train, y_train[aspect])\n",
    "#     val_acc = svm.predict(x_val, y_val[aspect])\n",
    "#     test_acc = svm.predict(x_test, y_test[aspect])\n",
    "#     print(\"Val acc: {:.4f}\".format(val_acc))\n",
    "#     print(\"Test acc: {:.4f}\".format(test_acc))"
   ]
  }
 ],
 "metadata": {
  "kernelspec": {
   "display_name": "Python 3",
   "language": "python",
   "name": "python3"
  },
  "language_info": {
   "codemirror_mode": {
    "name": "ipython",
    "version": 3
   },
   "file_extension": ".py",
   "mimetype": "text/x-python",
   "name": "python",
   "nbconvert_exporter": "python",
   "pygments_lexer": "ipython3",
   "version": "3.7.2"
  }
 },
 "nbformat": 4,
 "nbformat_minor": 2
}
